{
 "cells": [
  {
   "cell_type": "code",
   "execution_count": 1,
   "id": "107e42c7-af06-4fb6-a22a-e2b9c58f7674",
   "metadata": {},
   "outputs": [],
   "source": [
    "import pandas as pd\n",
    "import numpy as np\n",
    "from matplotlib import pyplot as plt\n",
    "import seaborn as sns"
   ]
  },
  {
   "cell_type": "code",
   "execution_count": 2,
   "id": "350b6d50-b2b6-4982-a600-66e84085c6fb",
   "metadata": {},
   "outputs": [],
   "source": [
    "path_to_obs = 'Kelly_SNOTEL.csv'"
   ]
  },
  {
   "cell_type": "code",
   "execution_count": 31,
   "id": "b47bf608-5053-4748-a575-75574d89053d",
   "metadata": {},
   "outputs": [
    {
     "name": "stderr",
     "output_type": "stream",
     "text": [
      "/tmp/ipykernel_93071/2961089810.py:1: DtypeWarning: Columns (1,2,3,4) have mixed types. Specify dtype option on import or set low_memory=False.\n",
      "  df = pd.read_csv(path_to_obs)\n"
     ]
    },
    {
     "data": {
      "text/html": [
       "<div>\n",
       "<style scoped>\n",
       "    .dataframe tbody tr th:only-of-type {\n",
       "        vertical-align: middle;\n",
       "    }\n",
       "\n",
       "    .dataframe tbody tr th {\n",
       "        vertical-align: top;\n",
       "    }\n",
       "\n",
       "    .dataframe thead th {\n",
       "        text-align: right;\n",
       "    }\n",
       "</style>\n",
       "<table border=\"1\" class=\"dataframe\">\n",
       "  <thead>\n",
       "    <tr style=\"text-align: right;\">\n",
       "      <th></th>\n",
       "      <th>time</th>\n",
       "      <th>lwe_thickness_of_precipitation_amount</th>\n",
       "      <th>solar_irradiance_cm_time__mean_over_pt1h</th>\n",
       "      <th>snow_water_equivalent</th>\n",
       "      <th>air_temperature</th>\n",
       "      <th>air_temperature_qc_agg</th>\n",
       "      <th>depth (m)</th>\n",
       "    </tr>\n",
       "  </thead>\n",
       "  <tbody>\n",
       "    <tr>\n",
       "      <th>4</th>\n",
       "      <td>2011-07-22 16:00:00+00:00</td>\n",
       "      <td>343.0</td>\n",
       "      <td>182.0</td>\n",
       "      <td>0.0</td>\n",
       "      <td>9.7</td>\n",
       "      <td>1.0</td>\n",
       "      <td>0.0</td>\n",
       "    </tr>\n",
       "    <tr>\n",
       "      <th>8</th>\n",
       "      <td>2011-07-22 17:00:00+00:00</td>\n",
       "      <td>343.0</td>\n",
       "      <td>182.0</td>\n",
       "      <td>0.0</td>\n",
       "      <td>12.8</td>\n",
       "      <td>1.0</td>\n",
       "      <td>0.0</td>\n",
       "    </tr>\n",
       "    <tr>\n",
       "      <th>12</th>\n",
       "      <td>2011-07-22 18:00:00+00:00</td>\n",
       "      <td>338.0</td>\n",
       "      <td>160.0</td>\n",
       "      <td>0.0</td>\n",
       "      <td>13.6</td>\n",
       "      <td>1.0</td>\n",
       "      <td>0.0</td>\n",
       "    </tr>\n",
       "    <tr>\n",
       "      <th>16</th>\n",
       "      <td>2011-07-22 19:00:00+00:00</td>\n",
       "      <td>340.0</td>\n",
       "      <td>311.0</td>\n",
       "      <td>0.0</td>\n",
       "      <td>13.8</td>\n",
       "      <td>1.0</td>\n",
       "      <td>0.0</td>\n",
       "    </tr>\n",
       "    <tr>\n",
       "      <th>20</th>\n",
       "      <td>2011-07-22 20:00:00+00:00</td>\n",
       "      <td>338.0</td>\n",
       "      <td>290.0</td>\n",
       "      <td>0.0</td>\n",
       "      <td>14.9</td>\n",
       "      <td>1.0</td>\n",
       "      <td>0.0</td>\n",
       "    </tr>\n",
       "  </tbody>\n",
       "</table>\n",
       "</div>"
      ],
      "text/plain": [
       "                        time lwe_thickness_of_precipitation_amount  \\\n",
       "4  2011-07-22 16:00:00+00:00                                 343.0   \n",
       "8  2011-07-22 17:00:00+00:00                                 343.0   \n",
       "12 2011-07-22 18:00:00+00:00                                 338.0   \n",
       "16 2011-07-22 19:00:00+00:00                                 340.0   \n",
       "20 2011-07-22 20:00:00+00:00                                 338.0   \n",
       "\n",
       "   solar_irradiance_cm_time__mean_over_pt1h  snow_water_equivalent  \\\n",
       "4                                     182.0                    0.0   \n",
       "8                                     182.0                    0.0   \n",
       "12                                    160.0                    0.0   \n",
       "16                                    311.0                    0.0   \n",
       "20                                    290.0                    0.0   \n",
       "\n",
       "   air_temperature  air_temperature_qc_agg  depth (m)  \n",
       "4              9.7                     1.0        0.0  \n",
       "8             12.8                     1.0        0.0  \n",
       "12            13.6                     1.0        0.0  \n",
       "16            13.8                     1.0        0.0  \n",
       "20            14.9                     1.0        0.0  "
      ]
     },
     "execution_count": 31,
     "metadata": {},
     "output_type": "execute_result"
    }
   ],
   "source": [
    "df = pd.read_csv(path_to_obs)\n",
    "df=df.dropna()\n",
    "df['time'] = pd.to_datetime(df['time'])\n",
    "df['snow_water_equivalent'] = df['snow_water_equivalent'].astype(np.float32)\n",
    "df.loc[df['snow_water_equivalent']<0, 'snow_water_equivalent'] = 0\n",
    "df=df.dropna()\n",
    "df['depth (m)'] = df['snow_water_equivalent'] * 0.225 / 100\n",
    "df.head()"
   ]
  },
  {
   "cell_type": "code",
   "execution_count": 40,
   "id": "7217f2ae-db9f-48cd-ad88-52f09625b337",
   "metadata": {},
   "outputs": [
    {
     "data": {
      "image/png": "[encoded data removed]",
      "text/plain": [
       "<Figure size 1000x200 with 1 Axes>"
      ]
     },
     "metadata": {},
     "output_type": "display_data"
    }
   ],
   "source": [
    "fig, axes = plt.subplots(figsize=(10, 2))\n",
    "\n",
    "#sns.scatterplot(data=df, x='time', y='snow_water_equivalent', ax = axes[0])\n",
    "sns.scatterplot(data=df, x='time', y='depth (m)', color='black', s=3, linewidth=0, ax = axes)\n",
    "\n",
    "#axes[0].set_ylabel('SWE (mm)')\n",
    "axes.set_ylabel('Snow Depth (m)')\n",
    "axes.set_xlabel('')\n",
    "\n",
    "axes.set_xlim(pd.to_datetime('2020-01-01'), pd.to_datetime('2024-01-01'))\n",
    "fig.autofmt_xdate()\n",
    "fig.tight_layout()\n",
    "plt.savefig('Kelly_SNOTEL_snow_depth.jpg', dpi=300)"
   ]
  },
  {
   "cell_type": "code",
   "execution_count": null,
   "id": "e0d7da4f-a0ed-4334-ae09-d229e1afd8c7",
   "metadata": {},
   "outputs": [],
   "source": []
  }
 ],
 "metadata": {
  "kernelspec": {
   "display_name": "Python 3 (ipykernel)",
   "language": "python",
   "name": "python3"
  },
  "language_info": {
   "codemirror_mode": {
    "name": "ipython",
    "version": 3
   },
   "file_extension": ".py",
   "mimetype": "text/x-python",
   "name": "python",
   "nbconvert_exporter": "python",
   "pygments_lexer": "ipython3",
   "version": "3.11.4"
  }
 },
 "nbformat": 4,
 "nbformat_minor": 5
}
