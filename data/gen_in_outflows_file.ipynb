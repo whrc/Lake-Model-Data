{
 "cells": [
  {
   "cell_type": "code",
   "execution_count": 14,
   "metadata": {},
   "outputs": [],
   "source": [
    "#Use this file to generate empty inflows and outflows file based on LAKE input meteorology\n",
    "import pandas as pd\n",
    "\n",
    "#for tribheat = 3, order of inflows columns is 'Date', 'discharge', 'depth', 'width', 'temp', 'sal', 'dirprojX', 'dirprojY', 'DOC', 'POC', 'DIC', 'CH4', 'O2'\n",
    "#order of outflows columns is 'Date', 'discharge', 'depth', 'width'\n",
    "#units are discharge (m3/s), depth (m), width (m), temp (C), sal(kg/kg), ?, ?, mol/m3, mol/m3, mol/m3, mol/m3, mol/m3"
   ]
  },
  {
   "cell_type": "code",
   "execution_count": 15,
   "metadata": {},
   "outputs": [],
   "source": [
    "path_to_meteo_file = '/home/amullen/LAKE/meteo/TKL873-InflowTest.dat'\n",
    "path_to_inflows = '/home/amullen/LAKE/meteo/TKL873-InflowTest_inflows.dat'\n",
    "path_to_outflows = '/home/amullen/LAKE/meteo/TKL873-InflowTest_outflows.dat'"
   ]
  },
  {
   "cell_type": "code",
   "execution_count": 16,
   "metadata": {},
   "outputs": [],
   "source": [
    "meteo_df = pd.read_csv(path_to_meteo_file)"
   ]
  },
  {
   "cell_type": "code",
   "execution_count": 26,
   "metadata": {},
   "outputs": [],
   "source": [
    "inflows_df = pd.DataFrame(columns=['Date', 'discharge', 'depth', 'width', 'temp', 'sal', 'dirprojX', 'dirprojY', 'DOC', 'POC', 'DIC', 'CH4', 'O2'])\n",
    "inflows_df['Date'] = pd.to_datetime(meteo_df[['Year', 'Month', 'Day']]).dt.strftime('%d%m%Y')\n",
    "inflows_df = inflows_df.fillna(-999)\n",
    "\n",
    "inflows_df['discharge'] = ((4.3 * 1e-2)/86400) #m/s Dabrowski et al., 2020\n",
    "inflows_df['CH4'] = 0.370 #mol/m3, Dabrowski et al., 2020 YKD\n",
    "inflows_df['depth'] = 2.75\n",
    "inflows_df['width'] = 90\n"
   ]
  },
  {
   "cell_type": "code",
   "execution_count": 29,
   "metadata": {},
   "outputs": [
    {
     "data": {
      "text/html": [
       "<div>\n",
       "<style scoped>\n",
       "    .dataframe tbody tr th:only-of-type {\n",
       "        vertical-align: middle;\n",
       "    }\n",
       "\n",
       "    .dataframe tbody tr th {\n",
       "        vertical-align: top;\n",
       "    }\n",
       "\n",
       "    .dataframe thead th {\n",
       "        text-align: right;\n",
       "    }\n",
       "</style>\n",
       "<table border=\"1\" class=\"dataframe\">\n",
       "  <thead>\n",
       "    <tr style=\"text-align: right;\">\n",
       "      <th></th>\n",
       "      <th>Date</th>\n",
       "      <th>discharge</th>\n",
       "      <th>depth</th>\n",
       "      <th>width</th>\n",
       "      <th>temp</th>\n",
       "      <th>sal</th>\n",
       "      <th>dirprojX</th>\n",
       "      <th>dirprojY</th>\n",
       "      <th>DOC</th>\n",
       "      <th>POC</th>\n",
       "      <th>DIC</th>\n",
       "      <th>CH4</th>\n",
       "      <th>O2</th>\n",
       "    </tr>\n",
       "  </thead>\n",
       "  <tbody>\n",
       "    <tr>\n",
       "      <th>0</th>\n",
       "      <td>01012000</td>\n",
       "      <td>4.976852e-07</td>\n",
       "      <td>2.75</td>\n",
       "      <td>90</td>\n",
       "      <td>-999</td>\n",
       "      <td>-999</td>\n",
       "      <td>-999</td>\n",
       "      <td>-999</td>\n",
       "      <td>-999</td>\n",
       "      <td>-999</td>\n",
       "      <td>-999</td>\n",
       "      <td>0.37</td>\n",
       "      <td>-999</td>\n",
       "    </tr>\n",
       "    <tr>\n",
       "      <th>1</th>\n",
       "      <td>02012000</td>\n",
       "      <td>4.976852e-07</td>\n",
       "      <td>2.75</td>\n",
       "      <td>90</td>\n",
       "      <td>-999</td>\n",
       "      <td>-999</td>\n",
       "      <td>-999</td>\n",
       "      <td>-999</td>\n",
       "      <td>-999</td>\n",
       "      <td>-999</td>\n",
       "      <td>-999</td>\n",
       "      <td>0.37</td>\n",
       "      <td>-999</td>\n",
       "    </tr>\n",
       "    <tr>\n",
       "      <th>2</th>\n",
       "      <td>03012000</td>\n",
       "      <td>4.976852e-07</td>\n",
       "      <td>2.75</td>\n",
       "      <td>90</td>\n",
       "      <td>-999</td>\n",
       "      <td>-999</td>\n",
       "      <td>-999</td>\n",
       "      <td>-999</td>\n",
       "      <td>-999</td>\n",
       "      <td>-999</td>\n",
       "      <td>-999</td>\n",
       "      <td>0.37</td>\n",
       "      <td>-999</td>\n",
       "    </tr>\n",
       "    <tr>\n",
       "      <th>3</th>\n",
       "      <td>04012000</td>\n",
       "      <td>4.976852e-07</td>\n",
       "      <td>2.75</td>\n",
       "      <td>90</td>\n",
       "      <td>-999</td>\n",
       "      <td>-999</td>\n",
       "      <td>-999</td>\n",
       "      <td>-999</td>\n",
       "      <td>-999</td>\n",
       "      <td>-999</td>\n",
       "      <td>-999</td>\n",
       "      <td>0.37</td>\n",
       "      <td>-999</td>\n",
       "    </tr>\n",
       "    <tr>\n",
       "      <th>4</th>\n",
       "      <td>05012000</td>\n",
       "      <td>4.976852e-07</td>\n",
       "      <td>2.75</td>\n",
       "      <td>90</td>\n",
       "      <td>-999</td>\n",
       "      <td>-999</td>\n",
       "      <td>-999</td>\n",
       "      <td>-999</td>\n",
       "      <td>-999</td>\n",
       "      <td>-999</td>\n",
       "      <td>-999</td>\n",
       "      <td>0.37</td>\n",
       "      <td>-999</td>\n",
       "    </tr>\n",
       "  </tbody>\n",
       "</table>\n",
       "</div>"
      ],
      "text/plain": [
       "       Date     discharge  depth  width  temp  sal  dirprojX  dirprojY  DOC  \\\n",
       "0  01012000  4.976852e-07   2.75     90  -999 -999      -999      -999 -999   \n",
       "1  02012000  4.976852e-07   2.75     90  -999 -999      -999      -999 -999   \n",
       "2  03012000  4.976852e-07   2.75     90  -999 -999      -999      -999 -999   \n",
       "3  04012000  4.976852e-07   2.75     90  -999 -999      -999      -999 -999   \n",
       "4  05012000  4.976852e-07   2.75     90  -999 -999      -999      -999 -999   \n",
       "\n",
       "   POC  DIC   CH4   O2  \n",
       "0 -999 -999  0.37 -999  \n",
       "1 -999 -999  0.37 -999  \n",
       "2 -999 -999  0.37 -999  \n",
       "3 -999 -999  0.37 -999  \n",
       "4 -999 -999  0.37 -999  "
      ]
     },
     "execution_count": 29,
     "metadata": {},
     "output_type": "execute_result"
    }
   ],
   "source": [
    "inflows_df.head()"
   ]
  },
  {
   "cell_type": "code",
   "execution_count": 30,
   "metadata": {},
   "outputs": [],
   "source": [
    "outflows_df = pd.DataFrame(columns=['Date', 'discharge', 'depth', 'width'])\n",
    "outflows_df['Date'] = inflows_df['Date']\n",
    "outflows_df = outflows_df.fillna(-999)\n",
    "outflows_df['discharge'] = inflows_df['discharge']\n",
    "outflows_df['depth'] = inflows_df['depth']\n",
    "outflows_df['width'] = inflows_df['width']"
   ]
  },
  {
   "cell_type": "code",
   "execution_count": 31,
   "metadata": {},
   "outputs": [],
   "source": [
    "inflows_df.to_csv(path_to_inflows, index=False, header=False)\n",
    "outflows_df.to_csv(path_to_outflows, index=False, header=False)"
   ]
  }
 ],
 "metadata": {
  "kernelspec": {
   "display_name": "lake_modeling",
   "language": "python",
   "name": "python3"
  },
  "language_info": {
   "codemirror_mode": {
    "name": "ipython",
    "version": 3
   },
   "file_extension": ".py",
   "mimetype": "text/x-python",
   "name": "python",
   "nbconvert_exporter": "python",
   "pygments_lexer": "ipython3",
   "version": "3.11.4"
  }
 },
 "nbformat": 4,
 "nbformat_minor": 2
}
