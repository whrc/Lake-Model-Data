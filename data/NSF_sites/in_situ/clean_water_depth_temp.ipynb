{
 "cells": [
  {
   "cell_type": "code",
   "execution_count": 1,
   "id": "f156c17e",
   "metadata": {},
   "outputs": [],
   "source": [
    "import pandas as pd\n",
    "import numpy as np"
   ]
  },
  {
   "cell_type": "code",
   "execution_count": 17,
   "id": "31d8d873",
   "metadata": {},
   "outputs": [],
   "source": [
    "df = pd.read_csv('water_depth_temp.csv')"
   ]
  },
  {
   "cell_type": "code",
   "execution_count": 18,
   "id": "bd008183",
   "metadata": {},
   "outputs": [],
   "source": [
    "df_TKL524 = df.copy()[['time_TKL524', 'depth_m_TKL524', 'temp_C_TKL524']]\n",
    "df_TKL524['sc_uscm'] = np.nan\n",
    "df_TKL524['site'] = 'TKL524'\n",
    "df_TKL524.columns = ['time', 'depth_m', 'temp_C', 'sc_uscm', 'site']\n",
    "\n",
    "df_TKL884 = df.copy()[['time_TKL884', 'depth_m_TKL884', 'temp_C_TKL884']]\n",
    "df_TKL884['sc_uscm'] = np.nan\n",
    "df_TKL884['site'] = 'TKL884'\n",
    "df_TKL884.columns = ['time', 'depth_m', 'temp_C', 'sc_uscm', 'site']\n",
    "\n",
    "df_SRBP1 = df.copy()[['time_SRBP1', 'depth_m_SRBP1', 'temp_C_SRBP1', 'sc_uscm_SRBP1']]\n",
    "df_SRBP1['site'] = 'Situkuyuk'\n",
    "df_SRBP1.columns = ['time', 'depth_m', 'temp_C', 'sc_uscm', 'site']\n",
    "\n",
    "df = pd.concat([df_TKL524, df_TKL884, df_SRBP1])\n",
    "\n",
    "df.to_csv('water_temp_depth_cleaned.csv')"
   ]
  },
  {
   "cell_type": "code",
   "execution_count": null,
   "id": "7c7fb22e",
   "metadata": {},
   "outputs": [],
   "source": []
  }
 ],
 "metadata": {
  "kernelspec": {
   "display_name": "lake_modeling",
   "language": "python",
   "name": "python3"
  },
  "language_info": {
   "codemirror_mode": {
    "name": "ipython",
    "version": 3
   },
   "file_extension": ".py",
   "mimetype": "text/x-python",
   "name": "python",
   "nbconvert_exporter": "python",
   "pygments_lexer": "ipython3",
   "version": "3.11.4"
  }
 },
 "nbformat": 4,
 "nbformat_minor": 5
}
