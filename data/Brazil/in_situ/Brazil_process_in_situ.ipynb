{
 "cells": [
  {
   "cell_type": "code",
   "execution_count": 28,
   "metadata": {},
   "outputs": [],
   "source": [
    "import pandas as pd\n",
    "import numpy as np\n",
    "from matplotlib import pyplot as plt\n",
    "import seaborn as sns\n",
    "import pytz\n",
    "from zoneinfo import ZoneInfo"
   ]
  },
  {
   "cell_type": "code",
   "execution_count": 49,
   "metadata": {},
   "outputs": [],
   "source": [
    "temp_casc = pd.read_csv('temperature_samples/raw/Cascavel_R3_combined.csv', parse_dates=['Data Hora, GMT-03:00'])\n",
    "temp_casc = temp_casc.rename(columns={'Data Hora, GMT-03:00': 'Date', 'Temp., °F (LGR S/N: 2254247, SEN S/N: 2254247)': 'temp'})\n",
    "temp_casc['Date'] = temp_casc['Date'].str.replace('H', ':')\n",
    "temp_casc['Date'] = temp_casc['Date'].str.replace('min', ':')\n",
    "temp_casc['Date'] = temp_casc['Date'].str.replace('s', '')\n",
    "temp_casc['Date'] =pd.to_datetime(temp_casc['Date'] )\n",
    "temp_casc['temp'] = (temp_casc['temp']-32)*(5/9)\n",
    "\n",
    "temp_casc.to_csv('temperature_samples/processed/Cascavel_R3_2018_2019_temp_C.csv', index=False)"
   ]
  },
  {
   "cell_type": "code",
   "execution_count": 50,
   "metadata": {},
   "outputs": [],
   "source": [
    "temp_darro_2018 = pd.read_csv('temperature_samples/raw/Darro_R1_2018_combined_temp_F.csv', parse_dates=['Data Hora, GMT-03:00'])\n",
    "temp_darro_2018 = temp_darro_2018.rename(columns={'Data Hora, GMT-03:00': 'Date', 'Temp., °F (LGR S/N: 10600576, SEN S/N: 10600576)': 'temp'})\n",
    "temp_darro_2018['Date'] = temp_darro_2018['Date'].str.replace('H', ':')\n",
    "temp_darro_2018['Date'] = temp_darro_2018['Date'].str.replace('min', ':')\n",
    "temp_darro_2018['Date'] = temp_darro_2018['Date'].str.replace('s', '')\n",
    "temp_darro_2018['Date'] =pd.to_datetime(temp_darro_2018['Date'] )\n",
    "temp_darro_2018['temp'] = (temp_darro_2018['temp']-32)*(5/9)\n",
    "\n",
    "temp_darro_2019 = pd.read_csv('temperature_samples/raw/Darro_R1_2019_combined_temp_F.csv', parse_dates=['Data Hora, GMT-04:30'])\n",
    "temp_darro_2019 = temp_darro_2019.rename(columns={'Data Hora, GMT-04:30': 'Date', 'Temp., °F (LGR S/N: 9906895, SEN S/N: 9906895)': 'temp'})\n",
    "temp_darro_2019['Date'] = temp_darro_2019['Date'].str.replace('H', ':')\n",
    "temp_darro_2019['Date'] = temp_darro_2019['Date'].str.replace('min', ':')\n",
    "temp_darro_2019['Date'] = temp_darro_2019['Date'].str.replace('s', '')\n",
    "temp_darro_2019['Date'] = pd.to_datetime(temp_darro_2019['Date'] )\n",
    "gmt_minus_4_30  = pytz.FixedOffset(-270)\n",
    "gmt_minus_3 = pytz.FixedOffset(-180)\n",
    "temp_darro_2019['Date'] = temp_darro_2019['Date'].dt.tz_localize(gmt_minus_4_30 )\n",
    "temp_darro_2019['Date'] = temp_darro_2019['Date'].dt.tz_convert(gmt_minus_3)\n",
    "temp_darro_2019['Date'] = temp_darro_2019['Date'].dt.tz_localize(None)\n",
    "temp_darro_2019['temp'] = (temp_darro_2019['temp']-32)*(5/9)\n",
    "\n",
    "temp_darro = pd.concat([temp_darro_2018, temp_darro_2019])\n",
    "temp_darro.to_csv('temperature_samples/processed/Darro_R1_2018_2019_temp_C.csv')"
   ]
  },
  {
   "cell_type": "code",
   "execution_count": 31,
   "metadata": {},
   "outputs": [],
   "source": [
    "def ppm_to_molarity(ppm, gas, T, P=1, Vh=60, Vb=160, temp_input = 'C'):\n",
    "    # for headspace measurements\n",
    "    # T in kelvin\n",
    "    # assuming P = 1 atm\n",
    "    # MW in g/mole\n",
    "    \n",
    "    if temp_input == 'C':\n",
    "        T = T+273.15\n",
    "    constants = {'ch4': {'H': 39769, 'MW': 16.04},\n",
    "                 'o2': {'H': 43414, 'MW': 32},\n",
    "                 'co2': {'H': 1630, 'MW': 44},\n",
    "                 'R': 1.98719}\n",
    "    \n",
    "    constants['ch4']['H'] = 1/(np.exp((-365.183 + 18106.7 / T + 49.7554 * np.log(T) + -0.00028503 * T) / constants['R']))\n",
    "    constants['o2']['H'] = 1/(np.exp((-286.942 + 15450.6 / T + 36.5593 * np.log(T) + 0.01876620 * T) / constants['R']))\n",
    "    \n",
    "    Cg = (ppm*1e-6)\n",
    "    pg = Cg * P #partial pressure of gas at atmospheric pressure (atm)\n",
    "    CAH = 55.5 * (pg/constants[gas]['H']) * constants[gas]['MW'] + ((Vh/(Vb-Vh)) * Cg * (constants[gas]['MW']/22.4) * (273 / T)) #gas concentration in aqueous phase (g/L)\n",
    "\n",
    "    return (CAH / constants[gas]['MW']) * 1e6 # umol gas / L water"
   ]
  },
  {
   "cell_type": "code",
   "execution_count": 45,
   "metadata": {},
   "outputs": [],
   "source": [
    "concentration_data = pd.read_csv('temperature_samples/raw/Tanguro_July_2023_Python_Isotopes_withtemps.csv')\n",
    "concentration_data = concentration_data.loc[concentration_data['Type']=='Water']\n",
    "concentration_data['CH4_uM'] = ppm_to_molarity(concentration_data['CH4'], 'ch4', concentration_data['Temperature'], P=1, Vh=4, Vb=12, temp_input = 'C')\n",
    "concentration_data['CO2_uM'] = ppm_to_molarity(concentration_data['CO2'], 'co2', concentration_data['Temperature'], P=1, Vh=4, Vb=12, temp_input = 'C')\n",
    "concentration_data['O2_uM'] = ppm_to_molarity(concentration_data['DO'], 'o2', concentration_data['Temperature'], P=1, Vh=4, Vb=12, temp_input = 'C')\n",
    "concentration_data.to_csv('temperature_samples/processed/Tanguro_July_2023_concentrations.csv')"
   ]
  },
  {
   "cell_type": "code",
   "execution_count": 33,
   "metadata": {},
   "outputs": [
    {
     "data": {
      "image/png": "[encoded data removed]",
      "text/plain": [
       "<Figure size 800x300 with 3 Axes>"
      ]
     },
     "metadata": {},
     "output_type": "display_data"
    }
   ],
   "source": [
    "fig, axes=plt.subplots(1,3, figsize=(8,3))\n",
    "sns.boxplot(data=concentration_data, x='Reservoir', y='CH4_uM', ax=axes[0])\n",
    "sns.boxplot(data=concentration_data, x='Reservoir', y='CO2_uM', ax=axes[1])\n",
    "sns.boxplot(data=concentration_data, x='Reservoir', y='DO', ax=axes[2])\n",
    "\n",
    "fig.tight_layout()"
   ]
  },
  {
   "cell_type": "code",
   "execution_count": null,
   "metadata": {},
   "outputs": [
    {
     "name": "stderr",
     "output_type": "stream",
     "text": [
      "/tmp/ipykernel_1674/2783094627.py:1: DtypeWarning: Columns (10) have mixed types. Specify dtype option on import or set low_memory=False.\n",
      "  ch4_diffusive = pd.read_csv('gas_fluxes/B_CH4_diffusive_20250302_LAKE.csv', na_values=['NA'], parse_dates=['datetime_start','datetime_end'])\n"
     ]
    }
   ],
   "source": [
    "ch4_diffusive = pd.read_csv('gas_fluxes/B_CH4_diffusive_20250302_LAKE.csv', na_values=['NA'], parse_dates=['datetime_start','datetime_end'])\n",
    "ch4_ebullitive = pd.read_csv('gas_fluxes/B_CH4_ebullitive_20250302_LAKE.csv', na_values=['NA'], parse_dates=['datetime_start','datetime_end'])\n",
    "co2_diffusive = pd.read_csv('gas_fluxes/B_CO2_diffusive_20250302_LAKE.csv', na_values=['NA'], parse_dates=['datetime_start','datetime_end'])\n",
    "co2_ebullitive = pd.read_csv('gas_fluxes/B_CO2_ebullitive_20250302_LAKE.csv', na_values=['NA'], parse_dates=['datetime_start','datetime_end'])"
   ]
  },
  {
   "cell_type": "code",
   "execution_count": 40,
   "metadata": {},
   "outputs": [],
   "source": [
    "ch4_diffusive.loc[ch4_diffusive['umol_m2_hr']<0, 'umol_m2_hr'] = np.nan\n",
    "\n",
    "ch4_diffusive['Date'] = ch4_diffusive['datetime_end'].dt.date\n",
    "\n",
    "ch4_diffusive_daily = ch4_diffusive.groupby(by=['pond', 'chamber', 'Date']).aggregate({\n",
    "                                                'slope_ppm_hr': 'mean',\n",
    "                                                'r2': 'mean', \n",
    "                                                'air_temp': 'mean', #C\n",
    "                                                'sur_wat_temp': 'mean', #C\n",
    "                                                'umol_m2_hr': 'mean', #mm\n",
    "                                                }).reset_index()\n",
    "\n",
    "ch4_diffusive_daily['umol_m2_d'] = ch4_diffusive_daily['umol_m2_hr'] * 24\n",
    "ch4_diffusive_daily['mg_m2_d'] = ch4_diffusive_daily['umol_m2_d']*0.01604\n",
    "\n",
    "ch4_diffusive_daily_chamber_avg = ch4_diffusive_daily.groupby(by=['pond', 'Date']).aggregate({\n",
    "                                                'slope_ppm_hr': 'mean',\n",
    "                                                'r2': 'mean', \n",
    "                                                'air_temp': 'mean', #C\n",
    "                                                'sur_wat_temp': 'mean', #C\n",
    "                                                'mg_m2_d': 'mean', #mm\n",
    "                                                }).reset_index()"
   ]
  },
  {
   "cell_type": "code",
   "execution_count": 41,
   "metadata": {},
   "outputs": [],
   "source": [
    "# calculate daily fluxes for CH4 ebullition\n",
    "ch4_ebullitive.loc[ch4_ebullitive['umol_m2_hr']<0, 'umol_m2_hr'] = np.nan\n",
    "ch4_ebullitive['Date'] = ch4_ebullitive['datetime_end'].dt.date\n",
    "\n",
    "ch4_ebullitive_daily = ch4_ebullitive.groupby(by=['pond', 'chamber', 'Date']).aggregate({ \n",
    "                                                'air_temp': 'mean', #C\n",
    "                                                'sur_wat_temp': 'mean', #C\n",
    "                                                'umol_m2_hr': 'mean', #mm\n",
    "                                                }).reset_index()\n",
    "\n",
    "ch4_ebullitive_daily['umol_m2_d'] = ch4_ebullitive_daily['umol_m2_hr'] * 24\n",
    "ch4_ebullitive_daily['mg_m2_d'] = ch4_ebullitive_daily['umol_m2_d']*0.01604"
   ]
  },
  {
   "cell_type": "code",
   "execution_count": 42,
   "metadata": {},
   "outputs": [],
   "source": [
    "# calculate daily fluxes for CO2 diffusion\n",
    "co2_diffusive.loc[co2_diffusive['umol_m2_hr']<0, 'umol_m2_hr'] = np.nan\n",
    "\n",
    "co2_diffusive['Date'] = co2_diffusive['datetime_end'].dt.date\n",
    "\n",
    "co2_diffusive_daily = co2_diffusive.groupby(by=['pond', 'chamber', 'Date']).aggregate({\n",
    "                                                'slope_ppm_hr': 'mean',\n",
    "                                                'r2': 'mean', \n",
    "                                                'air_temp': 'mean', #C\n",
    "                                                'sur_wat_temp': 'mean', #C\n",
    "                                                'umol_m2_hr': 'mean', #mm\n",
    "                                                }).reset_index()\n",
    "\n",
    "co2_diffusive_daily['umol_m2_d'] = co2_diffusive_daily['umol_m2_hr'] * 24\n",
    "co2_diffusive_daily['mg_m2_d'] = co2_diffusive_daily['umol_m2_d']*0.04401\n",
    "\n",
    "co2_diffusive_daily_chamber_avg = co2_diffusive_daily.groupby(by=['pond', 'Date']).aggregate({\n",
    "                                                'slope_ppm_hr': 'mean',\n",
    "                                                'r2': 'mean', \n",
    "                                                'air_temp': 'mean', #C\n",
    "                                                'sur_wat_temp': 'mean', #C\n",
    "                                                'mg_m2_d': 'mean', #mm\n",
    "                                                }).reset_index()"
   ]
  },
  {
   "cell_type": "code",
   "execution_count": 43,
   "metadata": {},
   "outputs": [],
   "source": [
    "# calculate daily fluxes for CO2 ebullition\n",
    "co2_ebullitive.loc[co2_ebullitive['umol_m2_hr']<0, 'umol_m2_hr'] = np.nan\n",
    "co2_ebullitive['Date'] = co2_ebullitive['datetime_end'].dt.date\n",
    "\n",
    "co2_ebullitive_daily = co2_ebullitive.groupby(by=['pond', 'chamber', 'Date']).aggregate({ \n",
    "                                                'air_temp': 'mean', #C\n",
    "                                                'sur_wat_temp': 'mean', #C\n",
    "                                                'umol_m2_hr': 'mean', #mm\n",
    "                                                }).reset_index()\n",
    "\n",
    "co2_ebullitive_daily['umol_m2_d'] = co2_ebullitive_daily['umol_m2_hr'] * 24\n",
    "co2_ebullitive_daily['mg_m2_d'] = co2_ebullitive_daily['umol_m2_d']*0.04401"
   ]
  },
  {
   "cell_type": "code",
   "execution_count": 44,
   "metadata": {},
   "outputs": [],
   "source": [
    "df_all_ch4 =pd.merge(ch4_diffusive_daily, ch4_ebullitive_daily, on =['pond', 'chamber', 'Date'], suffixes=['_diff', '_ebul'], how='outer')\n",
    "df_all_ch4 = df_all_ch4.replace('B', 'burned')\n",
    "df_all_ch4 = df_all_ch4.replace('U', 'unburned')\n",
    "\n",
    "\n",
    "df_all_co2 =pd.merge(co2_diffusive_daily, co2_ebullitive_daily, on =['pond', 'chamber', 'Date'], suffixes=['_diff', '_ebul'], how='outer')\n",
    "df_all_co2 = df_all_co2.replace('B', 'burned')\n",
    "df_all_co2 = df_all_co2.replace('U', 'unburned')\n",
    "\n",
    "df_all = pd.merge(df_all_ch4, df_all_co2, on =['pond', 'chamber', 'Date'], suffixes=['_ch4', '_co2'], how='outer')\n",
    "df_all.to_csv('auto_fluxes_all.csv')"
   ]
  }
 ],
 "metadata": {
  "kernelspec": {
   "display_name": "lake_modeling",
   "language": "python",
   "name": "python3"
  },
  "language_info": {
   "codemirror_mode": {
    "name": "ipython",
    "version": 3
   },
   "file_extension": ".py",
   "mimetype": "text/x-python",
   "name": "python",
   "nbconvert_exporter": "python",
   "pygments_lexer": "ipython3",
   "version": "3.11.4"
  }
 },
 "nbformat": 4,
 "nbformat_minor": 2
}
