{
 "cells": [
  {
   "cell_type": "code",
   "execution_count": 1,
   "metadata": {},
   "outputs": [],
   "source": [
    "import pandas as pd\n",
    "import numpy as np\n",
    "import matplotlib.pyplot as plt\n",
    "import seaborn as sns\n",
    "\n"
   ]
  },
  {
   "cell_type": "code",
   "execution_count": 5,
   "metadata": {},
   "outputs": [],
   "source": [
    "AQ_data_2023 = pd.read_excel('2023_YKDPonds_AQ.xlsx')\n",
    "AQ_data_2022 = pd.read_excel('Pond_Env_For_Elchin.xlsx')\n",
    "\n",
    "# Concatenate the 2022 and 2023 aquatic data\n",
    "AQ_data = pd.concat([AQ_data_2022, AQ_data_2023], ignore_index=True)\n",
    "AQ_data = AQ_data.replace('Burn', 'burned').replace('Unburn', 'unburned')\n",
    "AQ_data.to_csv('YKD_aquatic_data_all.csv', index=False)\n",
    "\n"
   ]
  }
 ],
 "metadata": {
  "kernelspec": {
   "display_name": "lake_modeling",
   "language": "python",
   "name": "python3"
  },
  "language_info": {
   "codemirror_mode": {
    "name": "ipython",
    "version": 3
   },
   "file_extension": ".py",
   "mimetype": "text/x-python",
   "name": "python",
   "nbconvert_exporter": "python",
   "pygments_lexer": "ipython3",
   "version": "3.11.4"
  }
 },
 "nbformat": 4,
 "nbformat_minor": 2
}
