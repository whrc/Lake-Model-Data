{
 "cells": [
  {
   "cell_type": "code",
   "execution_count": 1,
   "metadata": {},
   "outputs": [
    {
     "ename": "SyntaxError",
     "evalue": "invalid syntax (parsers.py, line 21)",
     "output_type": "error",
     "traceback": [
      "Traceback \u001b[1;36m(most recent call last)\u001b[0m:\n",
      "  File \u001b[0;32m\"C:\\Users\\kamal_weik8z0\\anaconda3\\lib\\site-packages\\IPython\\core\\interactiveshell.py\"\u001b[0m, line \u001b[0;32m3331\u001b[0m, in \u001b[0;35mrun_code\u001b[0m\n    exec(code_obj, self.user_global_ns, self.user_ns)\n",
      "  File \u001b[0;32m\"<ipython-input-1-7dd3504c366f>\"\u001b[0m, line \u001b[0;32m1\u001b[0m, in \u001b[0;35m<module>\u001b[0m\n    import pandas as pd\n",
      "  File \u001b[0;32m\"C:\\Users\\kamal_weik8z0\\anaconda3\\lib\\site-packages\\pandas\\__init__.py\"\u001b[0m, line \u001b[0;32m144\u001b[0m, in \u001b[0;35m<module>\u001b[0m\n    from pandas.io.api import (\n",
      "  File \u001b[0;32m\"C:\\Users\\kamal_weik8z0\\anaconda3\\lib\\site-packages\\pandas\\io\\api.py\"\u001b[0m, line \u001b[0;32m8\u001b[0m, in \u001b[0;35m<module>\u001b[0m\n    from pandas.io.excel import ExcelFile, ExcelWriter, read_excel\n",
      "  File \u001b[0;32m\"C:\\Users\\kamal_weik8z0\\anaconda3\\lib\\site-packages\\pandas\\io\\excel\\__init__.py\"\u001b[0m, line \u001b[0;32m1\u001b[0m, in \u001b[0;35m<module>\u001b[0m\n    from pandas.io.excel._base import ExcelFile, ExcelWriter, read_excel\n",
      "\u001b[1;36m  File \u001b[1;32m\"C:\\Users\\kamal_weik8z0\\anaconda3\\lib\\site-packages\\pandas\\io\\excel\\_base.py\"\u001b[1;36m, line \u001b[1;32m32\u001b[1;36m, in \u001b[1;35m<module>\u001b[1;36m\u001b[0m\n\u001b[1;33m    from pandas.io.parsers import TextParser\u001b[0m\n",
      "\u001b[1;36m  File \u001b[1;32m\"C:\\Users\\kamal_weik8z0\\anaconda3\\lib\\site-packages\\pandas\\io\\parsers.py\"\u001b[1;36m, line \u001b[1;32m21\u001b[0m\n\u001b[1;33m    from pandas._li\u001b[0m\n\u001b[1;37m                   ^\u001b[0m\n\u001b[1;31mSyntaxError\u001b[0m\u001b[1;31m:\u001b[0m invalid syntax\n"
     ]
    }
   ],
   "source": [
    "import pandas as pd\n"
   ]
  },
  {
   "cell_type": "code",
   "execution_count": null,
   "metadata": {},
   "outputs": [],
   "source": []
  }
 ],
 "metadata": {
  "kernelspec": {
   "display_name": "Python 3",
   "language": "python",
   "name": "python3"
  },
  "language_info": {
   "codemirror_mode": {
    "name": "ipython",
    "version": 3
   },
   "file_extension": ".py",
   "mimetype": "text/x-python",
   "name": "python",
   "nbconvert_exporter": "python",
   "pygments_lexer": "ipython3",
   "version": "3.7.6"
  }
 },
 "nbformat": 4,
 "nbformat_minor": 4
}
