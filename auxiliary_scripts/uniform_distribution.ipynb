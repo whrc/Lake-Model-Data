{
 "cells": [
  {
   "cell_type": "code",
   "execution_count": 1,
   "id": "a4115ee8",
   "metadata": {},
   "outputs": [
    {
     "name": "stderr",
     "output_type": "stream",
     "text": [
      "/Users/anaconda3/lib/python3.8/site-packages/scipy/__init__.py:138: UserWarning: A NumPy version >=1.16.5 and <1.23.0 is required for this version of SciPy (detected version 1.24.4)\n",
      "  warnings.warn(f\"A NumPy version >={np_minversion} and <{np_maxversion} is required for this version of \"\n"
     ]
    }
   ],
   "source": [
    "import numpy as np\n",
    "import pandas as pd\n",
    "from scipy.stats import loguniform"
   ]
  },
  {
   "cell_type": "code",
   "execution_count": 2,
   "id": "1b8a3334",
   "metadata": {},
   "outputs": [
    {
     "data": {
      "text/plain": [
       "[{'name': 'x1', 'bounds': [0.8, 1.2], 'initial': 1},\n",
       " {'name': 'x2', 'bounds': [1.6, 2.4], 'initial': 2},\n",
       " {'name': 'x3', 'bounds': [2.4, 3.6], 'initial': 3}]"
      ]
     },
     "execution_count": 2,
     "metadata": {},
     "output_type": "execute_result"
    }
   ],
   "source": [
    "params=[] #dictionary of parameters\n",
    "p_name=['x1','x2','x3'] #parameter names that participate in SA\n",
    "p_initial = [1, 2, 3] #initial values\n",
    "perturbation = 0.2 # pertubation from initial value \n",
    "\n",
    "logparams = [] #for very small parameter values apply loguniform \n",
    "logparams = np.zeros(len(p_initial)) # 0: no lognorm, 1: yes lognorm\n",
    "logparams[1]=1 #suppose paramter x2 is very small number (1-e10)\n",
    "\n",
    "for name,init in zip(p_name, p_initial):\n",
    "    p_bounds = [init - (init*perturbation), init + (init*perturbation)]\n",
    "    params.append(dict(name=name, bounds=p_bounds, initial=init))\n",
    "params"
   ]
  },
  {
   "cell_type": "code",
   "execution_count": 3,
   "id": "ac12acfe",
   "metadata": {},
   "outputs": [],
   "source": [
    "N=5 # number of samples \n",
    "seed=''\n",
    "# e.g. seed=1 reproduces the same distribution\n",
    "if seed!='':\n",
    "    np.random.seed(seed)\n",
    "\n",
    "l = np.random.uniform(size=(N, len(params)))\n",
    "\n",
    "# Generate bounds, based on specification in params list\n",
    "lows = np.array([p['bounds'][0] for p in params])\n",
    "highs = np.array([p['bounds'][1] for p in params])\n",
    "\n",
    "# Figure out the spread, or difference between bounds\n",
    "spreads = highs - lows\n",
    "\n",
    "# generate the sample matrix\n",
    "sm = l * spreads + lows\n",
    "\n",
    "# apply longuniform for small param values only\n",
    "if len(logparams)>0:\n",
    "    inum=0\n",
    "    for ilog,p in zip(logparams,params):\n",
    "        if ilog:\n",
    "            sm[:,inum]=loguniform.rvs(p['bounds'][0],p['bounds'][1],size=N)\n",
    "        inum+=1\n"
   ]
  },
  {
   "cell_type": "code",
   "execution_count": 4,
   "id": "d72818b0",
   "metadata": {},
   "outputs": [
    {
     "data": {
      "text/html": [
       "<div>\n",
       "<style scoped>\n",
       "    .dataframe tbody tr th:only-of-type {\n",
       "        vertical-align: middle;\n",
       "    }\n",
       "\n",
       "    .dataframe tbody tr th {\n",
       "        vertical-align: top;\n",
       "    }\n",
       "\n",
       "    .dataframe thead th {\n",
       "        text-align: right;\n",
       "    }\n",
       "</style>\n",
       "<table border=\"1\" class=\"dataframe\">\n",
       "  <thead>\n",
       "    <tr style=\"text-align: right;\">\n",
       "      <th></th>\n",
       "      <th>x1</th>\n",
       "      <th>x2</th>\n",
       "      <th>x3</th>\n",
       "    </tr>\n",
       "  </thead>\n",
       "  <tbody>\n",
       "    <tr>\n",
       "      <th>0</th>\n",
       "      <td>0.899110</td>\n",
       "      <td>1.701898</td>\n",
       "      <td>3.141240</td>\n",
       "    </tr>\n",
       "    <tr>\n",
       "      <th>1</th>\n",
       "      <td>1.071218</td>\n",
       "      <td>2.207009</td>\n",
       "      <td>3.464877</td>\n",
       "    </tr>\n",
       "    <tr>\n",
       "      <th>2</th>\n",
       "      <td>0.932624</td>\n",
       "      <td>2.109567</td>\n",
       "      <td>2.992595</td>\n",
       "    </tr>\n",
       "    <tr>\n",
       "      <th>3</th>\n",
       "      <td>1.160563</td>\n",
       "      <td>2.112927</td>\n",
       "      <td>2.974834</td>\n",
       "    </tr>\n",
       "    <tr>\n",
       "      <th>4</th>\n",
       "      <td>0.984950</td>\n",
       "      <td>2.209477</td>\n",
       "      <td>2.542332</td>\n",
       "    </tr>\n",
       "  </tbody>\n",
       "</table>\n",
       "</div>"
      ],
      "text/plain": [
       "         x1        x2        x3\n",
       "0  0.899110  1.701898  3.141240\n",
       "1  1.071218  2.207009  3.464877\n",
       "2  0.932624  2.109567  2.992595\n",
       "3  1.160563  2.112927  2.974834\n",
       "4  0.984950  2.209477  2.542332"
      ]
     },
     "execution_count": 4,
     "metadata": {},
     "output_type": "execute_result"
    }
   ],
   "source": [
    "sample_matrix = pd.DataFrame(sm, columns=[p['name'] for p in params])\n",
    "sample_matrix"
   ]
  }
 ],
 "metadata": {
  "kernelspec": {
   "display_name": "Python 3",
   "language": "python",
   "name": "python3"
  },
  "language_info": {
   "codemirror_mode": {
    "name": "ipython",
    "version": 3
   },
   "file_extension": ".py",
   "mimetype": "text/x-python",
   "name": "python",
   "nbconvert_exporter": "python",
   "pygments_lexer": "ipython3",
   "version": "3.8.8"
  }
 },
 "nbformat": 4,
 "nbformat_minor": 5
}
