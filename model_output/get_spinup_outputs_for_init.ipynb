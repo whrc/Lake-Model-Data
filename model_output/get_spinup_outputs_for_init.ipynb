{
 "cells": [
  {
   "cell_type": "code",
   "execution_count": 2,
   "metadata": {},
   "outputs": [],
   "source": [
    "import sys\n",
    "sys.path.insert(1, '../auxiliary_scripts')\n",
    "import output_postprocessing as op\n",
    "import pandas as pd\n",
    "import functools as ft\n",
    "import os"
   ]
  },
  {
   "cell_type": "code",
   "execution_count": 34,
   "metadata": {},
   "outputs": [],
   "source": [
    "path_to_timeseries = '/home/amullen/LAKE_NSF/results/TKL917-spinup/time_series'\n",
    "# depth, temperature(C), salinity, ch4, co2, o2, phosph\n",
    "\n",
    "#Water temperature profile\n",
    "twater=op.parse_univariate_file(os.path.join(path_to_timeseries, 'water_temp  1  1f2.dat'), 't_water')\n",
    "\n",
    "#soil temperature\n",
    "tsoil=op.parse_univariate_file(os.path.join(path_to_timeseries, 'soil_temp  1  1f2.dat'), 't_soil')\n",
    "\n",
    "#Salinity profile\n",
    "sal_water=op.parse_univariate_file(os.path.join(path_to_timeseries, 'sal_water  1  1f2.dat'), 'sal_water')\n",
    "\n",
    "#Methane concentration profile\n",
    "ch4=op.parse_univariate_file(os.path.join(path_to_timeseries, 'methane_water  1  1f2.dat'), 'ch4')\n",
    "\n",
    "#Carbon dioxide concentration profile\n",
    "co2=op.parse_univariate_file(os.path.join(path_to_timeseries, 'co2_water  1  1f2.dat'), 'co2')\n",
    "\n",
    "#Carbon dioxide concentration profile\n",
    "o2=op.parse_univariate_file(os.path.join(path_to_timeseries, 'oxygen_water  1  1f2.dat'), 'o2')\n",
    "\n",
    "#Carbon dioxide concentration profile\n",
    "phoshp=op.parse_univariate_file(os.path.join(path_to_timeseries, 'phosph_water  1  1f2.dat'), 'phosph')\n",
    "\n",
    "df = ft.reduce(lambda left, right: pd.merge(left, right, on=['year','month','day','hour','integration_time','depth','Date']), \n",
    "                      [twater, sal_water, ch4, co2, o2, phoshp])"
   ]
  },
  {
   "cell_type": "code",
   "execution_count": 35,
   "metadata": {},
   "outputs": [
    {
     "data": {
      "text/html": [
       "<div>\n",
       "<style scoped>\n",
       "    .dataframe tbody tr th:only-of-type {\n",
       "        vertical-align: middle;\n",
       "    }\n",
       "\n",
       "    .dataframe tbody tr th {\n",
       "        vertical-align: top;\n",
       "    }\n",
       "\n",
       "    .dataframe thead th {\n",
       "        text-align: right;\n",
       "    }\n",
       "</style>\n",
       "<table border=\"1\" class=\"dataframe\">\n",
       "  <thead>\n",
       "    <tr style=\"text-align: right;\">\n",
       "      <th></th>\n",
       "      <th>year</th>\n",
       "      <th>month</th>\n",
       "      <th>day</th>\n",
       "      <th>hour</th>\n",
       "      <th>integration_time</th>\n",
       "      <th>depth</th>\n",
       "      <th>t_water</th>\n",
       "      <th>Date</th>\n",
       "      <th>sal_water</th>\n",
       "      <th>ch4</th>\n",
       "      <th>co2</th>\n",
       "      <th>o2</th>\n",
       "      <th>phosph</th>\n",
       "    </tr>\n",
       "  </thead>\n",
       "  <tbody>\n",
       "    <tr>\n",
       "      <th>0</th>\n",
       "      <td>2003</td>\n",
       "      <td>1</td>\n",
       "      <td>2</td>\n",
       "      <td>12.0</td>\n",
       "      <td>1.0</td>\n",
       "      <td>-0.00</td>\n",
       "      <td>-5.340976e-11</td>\n",
       "      <td>2003-01-02</td>\n",
       "      <td>8.003852e-13</td>\n",
       "      <td>274.970359</td>\n",
       "      <td>68.022348</td>\n",
       "      <td>3.200000e-19</td>\n",
       "      <td>0.019070</td>\n",
       "    </tr>\n",
       "    <tr>\n",
       "      <th>1</th>\n",
       "      <td>2003</td>\n",
       "      <td>1</td>\n",
       "      <td>2</td>\n",
       "      <td>12.0</td>\n",
       "      <td>1.0</td>\n",
       "      <td>-0.25</td>\n",
       "      <td>1.110137e-02</td>\n",
       "      <td>2003-01-02</td>\n",
       "      <td>7.985098e-13</td>\n",
       "      <td>274.973405</td>\n",
       "      <td>68.015904</td>\n",
       "      <td>0.000000e+00</td>\n",
       "      <td>0.019070</td>\n",
       "    </tr>\n",
       "    <tr>\n",
       "      <th>2</th>\n",
       "      <td>2003</td>\n",
       "      <td>1</td>\n",
       "      <td>2</td>\n",
       "      <td>12.0</td>\n",
       "      <td>1.0</td>\n",
       "      <td>-0.50</td>\n",
       "      <td>1.556687e-02</td>\n",
       "      <td>2003-01-02</td>\n",
       "      <td>7.978897e-13</td>\n",
       "      <td>274.978306</td>\n",
       "      <td>68.013101</td>\n",
       "      <td>0.000000e+00</td>\n",
       "      <td>0.019069</td>\n",
       "    </tr>\n",
       "    <tr>\n",
       "      <th>3</th>\n",
       "      <td>2003</td>\n",
       "      <td>1</td>\n",
       "      <td>2</td>\n",
       "      <td>12.0</td>\n",
       "      <td>1.0</td>\n",
       "      <td>-0.75</td>\n",
       "      <td>1.956746e-02</td>\n",
       "      <td>2003-01-02</td>\n",
       "      <td>7.974797e-13</td>\n",
       "      <td>274.985753</td>\n",
       "      <td>68.010415</td>\n",
       "      <td>9.135807e-13</td>\n",
       "      <td>0.019069</td>\n",
       "    </tr>\n",
       "    <tr>\n",
       "      <th>4</th>\n",
       "      <td>2003</td>\n",
       "      <td>1</td>\n",
       "      <td>2</td>\n",
       "      <td>12.0</td>\n",
       "      <td>1.0</td>\n",
       "      <td>-1.00</td>\n",
       "      <td>2.495083e-02</td>\n",
       "      <td>2003-01-02</td>\n",
       "      <td>7.971038e-13</td>\n",
       "      <td>275.000216</td>\n",
       "      <td>68.006549</td>\n",
       "      <td>0.000000e+00</td>\n",
       "      <td>0.019068</td>\n",
       "    </tr>\n",
       "  </tbody>\n",
       "</table>\n",
       "</div>"
      ],
      "text/plain": [
       "   year  month  day  hour  integration_time  depth       t_water       Date  \\\n",
       "0  2003      1    2  12.0               1.0  -0.00 -5.340976e-11 2003-01-02   \n",
       "1  2003      1    2  12.0               1.0  -0.25  1.110137e-02 2003-01-02   \n",
       "2  2003      1    2  12.0               1.0  -0.50  1.556687e-02 2003-01-02   \n",
       "3  2003      1    2  12.0               1.0  -0.75  1.956746e-02 2003-01-02   \n",
       "4  2003      1    2  12.0               1.0  -1.00  2.495083e-02 2003-01-02   \n",
       "\n",
       "      sal_water         ch4        co2            o2    phosph  \n",
       "0  8.003852e-13  274.970359  68.022348  3.200000e-19  0.019070  \n",
       "1  7.985098e-13  274.973405  68.015904  0.000000e+00  0.019070  \n",
       "2  7.978897e-13  274.978306  68.013101  0.000000e+00  0.019069  \n",
       "3  7.974797e-13  274.985753  68.010415  9.135807e-13  0.019069  \n",
       "4  7.971038e-13  275.000216  68.006549  0.000000e+00  0.019068  "
      ]
     },
     "execution_count": 35,
     "metadata": {},
     "output_type": "execute_result"
    }
   ],
   "source": [
    "df.head()"
   ]
  },
  {
   "cell_type": "code",
   "execution_count": 36,
   "metadata": {},
   "outputs": [],
   "source": [
    "# future start date: 2021-07-01\n",
    "start_date = '2021-07-01'\n",
    "init_row=df.loc[df['Date']==start_date]\n",
    "init_row_tsoil = tsoil.loc[tsoil['Date']==start_date]"
   ]
  },
  {
   "cell_type": "code",
   "execution_count": 37,
   "metadata": {},
   "outputs": [
    {
     "name": "stdout",
     "output_type": "stream",
     "text": [
      "0.0  -1.853715457e-19  2.7791830219999998e-21  0.17487617130000002  0.20249430570000002  1.0000000000000001e-20  0.000363237936712948\n",
      "0.25  0.2614277913  3.037393641e-15  0.1759837673  0.2020569941  0.0  0.00036380268219244434\n",
      "0.5  0.5814282503  4.745387009e-15  0.16508125740000001  0.2016463727  0.0  0.0003824149518082015\n",
      "0.75  0.9575153797  3.817078895e-15  0.1771224516  0.2014595171  2.1755889284375e-13  0.0004104258944946723\n",
      "1.0  1.359243546  3.550275765e-15  0.2425505383  0.20157872040000002  0.0  0.00040650739497901197\n",
      "1.25  1.77355513  3.482694585e-15  0.2926571484  0.2026265608  0.0  0.0003329791359380045\n",
      "1.5  2.190771929  3.440193383e-15  0.3693670431  0.2048343816  0.0  0.00019023877486277043\n",
      "1.75  2.604136745  3.418198257e-15  0.4708029079  0.2064762103  0.0  7.214094092670326e-05\n",
      "2.0  2.987220634  3.411978235e-15  0.6111526363  0.2067098867  0.0  2.6867875766871164e-05\n",
      "2.25  3.322997486  3.411082618e-15  0.6676631754  0.2062981908  0.0  1.8686894325153372e-05\n",
      "2.5  3.663158177  3.411006808e-15  0.6324811924000001  0.2057386981  0.0  1.7875257515337424e-05\n",
      "2.75  3.965210412  3.411003221e-15  0.7553274123  0.20523078760000002  9.99498986875e-21  1.7832065297061674e-05\n"
     ]
    }
   ],
   "source": [
    "#ignore 0.0 depth row\n",
    "for index, row in init_row.iterrows():\n",
    "    print(str(row['depth']*-1) + '  ' + str(row['t_water']) + '  ' + str(row['sal_water']) + '  ' + \n",
    "    str(row['ch4'] * 0.001) + '  ' + str(row['co2'] * 0.001) + '  ' + str(row['o2']/32) + '  ' + str(row['phosph'] / 123.88))"
   ]
  },
  {
   "cell_type": "code",
   "execution_count": 38,
   "metadata": {},
   "outputs": [
    {
     "name": "stdout",
     "output_type": "stream",
     "text": [
      "0.0  3.9652\n",
      "0.1  4.0033\n",
      "0.2  4.039\n",
      "0.5  4.1383\n",
      "1.0  4.2816\n",
      "2.0  4.516\n",
      "3.0  4.7054\n",
      "4.0  4.8322\n",
      "5.0  4.9386\n",
      "6.0  4.9728\n",
      "7.0  5.007\n",
      "8.0  5.0127\n",
      "9.0  5.0127\n",
      "10.0  -999.0\n"
     ]
    }
   ],
   "source": [
    "#only copy down to 10 m, every meter, keep 0.0 depth row\n",
    "for index, row in init_row_tsoil.iterrows():\n",
    "    print(str(row['depth']*-1) + '  ' + str(row['t_soil']))"
   ]
  }
 ],
 "metadata": {
  "kernelspec": {
   "display_name": "lake_modeling",
   "language": "python",
   "name": "python3"
  },
  "language_info": {
   "codemirror_mode": {
    "name": "ipython",
    "version": 3
   },
   "file_extension": ".py",
   "mimetype": "text/x-python",
   "name": "python",
   "nbconvert_exporter": "python",
   "pygments_lexer": "ipython3",
   "version": "3.11.4"
  }
 },
 "nbformat": 4,
 "nbformat_minor": 2
}
